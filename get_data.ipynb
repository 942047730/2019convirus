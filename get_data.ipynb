{
 "cells": [
  {
   "cell_type": "code",
   "execution_count": 1,
   "metadata": {},
   "outputs": [
    {
     "data": {
      "text/plain": [
       "dict_keys(['lastUpdateTime', 'chinaTotal', 'chinaAdd', 'isShowAdd', 'showAddSwitch', 'areaTree', 'chinaDayList', 'chinaDayAddList', 'dailyNewAddHistory', 'dailyHistory', 'wuhanDayList', 'articleList'])"
      ]
     },
     "execution_count": 1,
     "metadata": {},
     "output_type": "execute_result"
    }
   ],
   "source": [
    "import requests\n",
    "import json\n",
    "\n",
    "url=\"https://view.inews.qq.com/g2/getOnsInfo?name=disease_h5\"\n",
    "res=requests.get(url)\n",
    "d=json.loads(res.text)\n",
    "data_all=json.loads(d[\"data\"])\n",
    "data_all.keys()"
   ]
  },
  {
   "cell_type": "code",
   "execution_count": 2,
   "metadata": {},
   "outputs": [
    {
     "data": {
      "text/plain": [
       "dict_keys(['chinaDayList', 'chinaDayAddList', 'dailyNewAddHistory', 'dailyHistory', 'wuhanDayList', 'articleList', 'provinceCompare', 'foreignList', 'globalStatis', 'globalDailyHistory', 'cityStatis'])"
      ]
     },
     "execution_count": 2,
     "metadata": {},
     "output_type": "execute_result"
    }
   ],
   "source": [
    "url2=\"https://view.inews.qq.com/g2/getOnsInfo?name=disease_other\"\n",
    "res2=requests.get(url2)\n",
    "d2=json.loads(res2.text)\n",
    "data_other=json.loads(d2[\"data\"])\n",
    "data_other.keys()"
   ]
  },
  {
   "cell_type": "code",
   "execution_count": 24,
   "metadata": {},
   "outputs": [
    {
     "name": "stdout",
     "output_type": "stream",
     "text": [
      "[{'date': '01.20', 'hubei': 72, 'country': 77, 'notHubei': 5}, {'date': '01.21', 'hubei': 105, 'country': 149, 'notHubei': 44}, {'date': '01.22', 'hubei': 69, 'country': 131, 'notHubei': 62}, {'date': '01.23', 'hubei': 105, 'country': 259, 'notHubei': 154}, {'date': '01.24', 'hubei': 180, 'country': 444, 'notHubei': 264}, {'date': '01.25', 'hubei': 323, 'country': 688, 'notHubei': 365}, {'date': '01.26', 'hubei': 371, 'country': 769, 'notHubei': 398}, {'date': '01.27', 'hubei': 1291, 'country': 1771, 'notHubei': 480}, {'date': '01.28', 'hubei': 840, 'country': 1459, 'notHubei': 619}, {'date': '01.29', 'hubei': 1032, 'country': 1737, 'notHubei': 705}, {'date': '01.30', 'hubei': 1220, 'country': 1982, 'notHubei': 762}, {'date': '01.31', 'hubei': 1347, 'country': 2102, 'notHubei': 755}, {'date': '02.01', 'hubei': 1921, 'country': 2590, 'notHubei': 669}, {'date': '02.02', 'hubei': 2103, 'country': 2829, 'notHubei': 726}, {'date': '02.03', 'hubei': 2345, 'country': 3235, 'notHubei': 890}, {'date': '02.04', 'hubei': 3156, 'country': 3893, 'notHubei': 737}, {'date': '02.05', 'hubei': 2987, 'country': 3697, 'notHubei': 710}, {'date': '02.06', 'hubei': 2447, 'country': 3143, 'notHubei': 696}, {'date': '02.07', 'hubei': 2841, 'country': 3401, 'notHubei': 560}, {'date': '02.08', 'hubei': 2147, 'country': 2656, 'notHubei': 509}, {'date': '02.09', 'hubei': 2618, 'country': 3062, 'notHubei': 444}, {'date': '02.10', 'hubei': 2097, 'country': 2484, 'notHubei': 387}, {'date': '02.11', 'hubei': 1638, 'country': 2022, 'notHubei': 384}, {'date': '02.12', 'hubei': 14840, 'country': 15153, 'notHubei': 313}, {'date': '02.13', 'hubei': 4823, 'country': 5093, 'notHubei': 270}, {'date': '02.14', 'hubei': 2420, 'country': 2644, 'notHubei': 224}, {'date': '02.15', 'hubei': 1843, 'country': 2009, 'notHubei': 166}, {'date': '02.16', 'hubei': 1933, 'country': 2051, 'notHubei': 118}, {'date': '02.17', 'hubei': 1807, 'country': 1891, 'notHubei': 84}, {'date': '02.18', 'hubei': 1693, 'country': 1751, 'notHubei': 58}, {'date': '02.19', 'hubei': 775, 'country': 820, 'notHubei': 45}, {'date': '02.20', 'hubei': 631, 'country': 892, 'notHubei': 261}, {'date': '02.21', 'hubei': 366, 'country': 399, 'notHubei': 33}, {'date': '02.22', 'hubei': 630, 'country': 649, 'notHubei': 19}, {'date': '02.23', 'hubei': 398, 'country': 416, 'notHubei': 18}, {'date': '02.24', 'hubei': 499, 'country': 517, 'notHubei': 18}, {'date': '02.25', 'hubei': 401, 'country': 411, 'notHubei': 10}, {'date': '02.26', 'hubei': 409, 'country': 440, 'notHubei': 31}, {'date': '02.27', 'hubei': 318, 'country': 329, 'notHubei': 11}, {'date': '02.28', 'hubei': 423, 'country': 430, 'notHubei': 7}, {'date': '02.29', 'hubei': 570, 'country': 579, 'notHubei': 9}, {'date': '03.01', 'hubei': 196, 'country': 206, 'notHubei': 10}, {'date': '03.02', 'hubei': 114, 'country': 128, 'notHubei': 14}, {'date': '03.03', 'hubei': 115, 'country': 120, 'notHubei': 5}, {'date': '03.04', 'hubei': 134, 'country': 143, 'notHubei': 9}, {'date': '03.05', 'hubei': 126, 'country': 145, 'notHubei': 19}, {'date': '03.06', 'hubei': 74, 'country': 103, 'notHubei': 29}, {'date': '03.07', 'hubei': 41, 'country': 46, 'notHubei': 5}, {'date': '03.08', 'hubei': 36, 'country': 45, 'notHubei': 9}, {'date': '03.09', 'hubei': 17, 'country': 20, 'notHubei': 3}]\n"
     ]
    }
   ],
   "source": [
    "print(data_other[\"dailyNewAddHistory\"])"
   ]
  },
  {
   "cell_type": "code",
   "execution_count": 3,
   "metadata": {},
   "outputs": [],
   "source": [
    "import pymysql\n",
    "import time\n",
    "import json\n",
    "import traceback\n"
   ]
  },
  {
   "cell_type": "code",
   "execution_count": 4,
   "metadata": {},
   "outputs": [],
   "source": [
    "def get_tencent_data():  # 获取腾讯历史数据和当日详细数据\n",
    "    url1 = \"https://view.inews.qq.com/g2/getOnsInfo?name=disease_h5\"\n",
    "    headers = {\n",
    "        'user-agent': 'Mozilla/5.0 (Windows NT 10.0; WOW64) AppleWebKit/537.36 (KHTML, like Gecko) Chrome/65.0.3325.181 Safari/537.36'\n",
    "    }\n",
    "    r1 = requests.get(url1, headers)\n",
    "    res1 = json.loads(r1.text)  # json转换字符串\n",
    "    data_all = json.loads(res1['data'])\n",
    "    # 获取['lastUpdateTime', 'chinaTotal', 'chinaAdd', 'isShowAdd', 'showAddSwitch', 'areaTree',\n",
    "    # 'chinaDayList', 'chinaDayAddList', 'dailyNewAddHistory', 'dailyHistory', 'wuhanDayList', 'articleList']\n",
    "\n",
    "    url2 = \"https://view.inews.qq.com/g2/getOnsInfo?name=disease_other\"\n",
    "    headers = {\n",
    "        'user-agent': 'Mozilla/5.0 (Windows NT 10.0; WOW64) AppleWebKit/537.36 (KHTML, like Gecko) Chrome/65.0.3325.181 Safari/537.36'\n",
    "    }\n",
    "    r2 = requests.get(url2, headers)\n",
    "    res2 = json.loads(r2.text)  # json转换字符串\n",
    "    data_other = json.loads(res2['data'])\n",
    "    # 获取['chinaDayList', 'chinaDayAddList', 'dailyNewAddHistory', 'dailyHistory', 'wuhanDayList', 'articleList',\n",
    "    # 'provinceCompare', 'foreignList', 'globalStatis', 'globalDailyHistory']\n",
    "\n",
    "    hisrory = {}  # 历史数据\n",
    "    for i in data_other[\"chinaDayList\"]:\n",
    "        ds = \"2020.\" + i[\"date\"]\n",
    "        tup = time.strptime(ds, \"%Y.%m.%d\")\n",
    "        ds = time.strftime(\"%Y-%m-%d\", tup)  # 改变时间格式，数据库是datatime格式\n",
    "        confirm = i[\"confirm\"]\n",
    "        suspect = i[\"suspect\"]\n",
    "        heal = i[\"heal\"]\n",
    "        dead = i[\"dead\"]\n",
    "        hisrory[ds] = {\"confirm\": confirm, \"suspect\": suspect, \"heal\": heal, \"dead\": dead}\n",
    "\n",
    "    for i in data_other[\"chinaDayAddList\"]:\n",
    "        ds = \"2020.\" + i[\"date\"]\n",
    "        tup = time.strptime(ds, \"%Y.%m.%d\")\n",
    "        ds = time.strftime(\"%Y-%m-%d\", tup)  # 改变时间格式，数据库是datatime格式\n",
    "        confirm = i[\"confirm\"]\n",
    "        suspect = i[\"suspect\"]\n",
    "        heal = i[\"heal\"]\n",
    "        dead = i[\"dead\"]\n",
    "        hisrory[ds].update({\"confirm\": confirm, \"suspect\": suspect, \"heal\": heal, \"dead\": dead})\n",
    "\n",
    "    details=[] #当日详细数据\n",
    "    update_time=data_all[\"lastUpdateTime\"]\n",
    "    data_country=data_all[\"areaTree\"]#list25个国家\n",
    "    data_province=data_country[0][\"children\"]#中国各省\n",
    "    for pro_infos in data_province:\n",
    "        province=pro_infos[\"name\"]\n",
    "        for city_infos in pro_infos[\"children\"]:\n",
    "            city=city_infos[\"name\"]\n",
    "            confirm=city_infos[\"total\"][\"confirm\"]\n",
    "            confirm_add=city_infos[\"today\"][\"confirm\"]\n",
    "            heal=city_infos[\"total\"][\"heal\"]\n",
    "            dead=city_infos[\"total\"][\"dead\"]\n",
    "            details.append([update_time,province,city,confirm,confirm_add,heal,dead])\n",
    "\n",
    "    return hisrory,details"
   ]
  },
  {
   "cell_type": "code",
   "execution_count": null,
   "metadata": {},
   "outputs": [],
   "source": [
    "存取腾讯数据"
   ]
  },
  {
   "cell_type": "code",
   "execution_count": 11,
   "metadata": {},
   "outputs": [
    {
     "name": "stdout",
     "output_type": "stream",
     "text": [
      "((datetime.datetime(2020, 1, 13, 0, 0), 41, None, 0, None, 0, None, 1, None), (datetime.datetime(2020, 1, 14, 0, 0), 41, None, 0, None, 0, None, 1, None), (datetime.datetime(2020, 1, 15, 0, 0), 41, None, 0, None, 5, None, 2, None), (datetime.datetime(2020, 1, 16, 0, 0), 45, None, 0, None, 8, None, 2, None), (datetime.datetime(2020, 1, 17, 0, 0), 62, None, 0, None, 12, None, 2, None), (datetime.datetime(2020, 1, 18, 0, 0), 198, None, 0, None, 17, None, 3, None), (datetime.datetime(2020, 1, 19, 0, 0), 275, None, 0, None, 18, None, 4, None), (datetime.datetime(2020, 1, 20, 0, 0), 77, None, 27, None, 0, None, 0, None), (datetime.datetime(2020, 1, 21, 0, 0), 149, None, 53, None, 0, None, 3, None), (datetime.datetime(2020, 1, 22, 0, 0), 131, None, 257, None, 0, None, 8, None), (datetime.datetime(2020, 1, 23, 0, 0), 259, None, 680, None, 6, None, 8, None), (datetime.datetime(2020, 1, 24, 0, 0), 444, None, 1118, None, 3, None, 16, None), (datetime.datetime(2020, 1, 25, 0, 0), 688, None, 1309, None, 11, None, 15, None), (datetime.datetime(2020, 1, 26, 0, 0), 769, None, 3806, None, 2, None, 24, None), (datetime.datetime(2020, 1, 27, 0, 0), 1771, None, 2077, None, 9, None, 26, None), (datetime.datetime(2020, 1, 28, 0, 0), 1459, None, 3248, None, 43, None, 26, None), (datetime.datetime(2020, 1, 29, 0, 0), 1737, None, 4148, None, 21, None, 38, None), (datetime.datetime(2020, 1, 30, 0, 0), 1982, None, 4812, None, 47, None, 43, None), (datetime.datetime(2020, 1, 31, 0, 0), 2102, None, 5019, None, 72, None, 46, None), (datetime.datetime(2020, 2, 1, 0, 0), 2590, None, 4562, None, 85, None, 45, None), (datetime.datetime(2020, 2, 2, 0, 0), 2829, None, 5173, None, 147, None, 57, None), (datetime.datetime(2020, 2, 3, 0, 0), 3235, None, 5072, None, 157, None, 64, None), (datetime.datetime(2020, 2, 4, 0, 0), 3893, None, 3971, None, 262, None, 65, None), (datetime.datetime(2020, 2, 5, 0, 0), 3697, None, 5328, None, 261, None, 73, None), (datetime.datetime(2020, 2, 6, 0, 0), 3143, None, 4833, None, 387, None, 73, None), (datetime.datetime(2020, 2, 7, 0, 0), 3401, None, 4214, None, 510, None, 86, None), (datetime.datetime(2020, 2, 8, 0, 0), 2656, None, 3916, None, 600, None, 89, None), (datetime.datetime(2020, 2, 9, 0, 0), 3062, None, 4008, None, 632, None, 97, None), (datetime.datetime(2020, 2, 10, 0, 0), 2484, None, 3536, None, 716, None, 108, None), (datetime.datetime(2020, 2, 11, 0, 0), 2022, None, 3342, None, 744, None, 97, None), (datetime.datetime(2020, 2, 12, 0, 0), 15153, None, 2807, None, 1173, None, 254, None), (datetime.datetime(2020, 2, 13, 0, 0), 5093, None, 2450, None, 1083, None, 121, None), (datetime.datetime(2020, 2, 14, 0, 0), 2644, None, 2277, None, 1373, None, 143, None), (datetime.datetime(2020, 2, 15, 0, 0), 2009, None, 1918, None, 1324, None, 142, None), (datetime.datetime(2020, 2, 16, 0, 0), 2051, None, 1563, None, 1425, None, 105, None), (datetime.datetime(2020, 2, 17, 0, 0), 1891, None, 1432, None, 1701, None, 98, None), (datetime.datetime(2020, 2, 18, 0, 0), 1751, None, 1185, None, 1826, None, 136, None), (datetime.datetime(2020, 2, 19, 0, 0), 820, None, 1277, None, 1781, None, 115, None), (datetime.datetime(2020, 2, 20, 0, 0), 892, None, 1614, None, 2109, None, 118, None), (datetime.datetime(2020, 2, 21, 0, 0), 399, None, 1361, None, 2394, None, 109, None), (datetime.datetime(2020, 2, 22, 0, 0), 649, None, 882, None, 2235, None, 97, None), (datetime.datetime(2020, 2, 23, 0, 0), 416, None, 620, None, 1850, None, 150, None), (datetime.datetime(2020, 2, 24, 0, 0), 517, None, 530, None, 2596, None, 71, None), (datetime.datetime(2020, 2, 25, 0, 0), 411, None, 439, None, 2422, None, 52, None), (datetime.datetime(2020, 2, 26, 0, 0), 440, None, 508, None, 2756, None, 29, None), (datetime.datetime(2020, 2, 27, 0, 0), 329, None, 452, None, 3626, None, 44, None), (datetime.datetime(2020, 2, 28, 0, 0), 430, None, 248, None, 2892, None, 47, None), (datetime.datetime(2020, 2, 29, 0, 0), 579, None, 132, None, 2626, None, 35, None), (datetime.datetime(2020, 3, 1, 0, 0), 206, None, 141, None, 2843, None, 42, None), (datetime.datetime(2020, 3, 2, 0, 0), 128, None, 129, None, 2742, None, 31, None), (datetime.datetime(2020, 3, 3, 0, 0), 120, None, 143, None, 2654, None, 38, None), (datetime.datetime(2020, 3, 4, 0, 0), 143, None, 143, None, 2195, None, 31, None), (datetime.datetime(2020, 3, 5, 0, 0), 145, None, 102, None, 1684, None, 30, None), (datetime.datetime(2020, 3, 6, 0, 0), 103, None, 99, None, 1684, None, 28, None), (datetime.datetime(2020, 3, 7, 0, 0), 46, None, 84, None, 1666, None, 27, None), (datetime.datetime(2020, 3, 8, 0, 0), 45, None, 60, None, 1541, None, 23, None), (datetime.datetime(2020, 3, 9, 0, 0), 20, None, 36, None, 1298, None, 17, None))\n"
     ]
    }
   ],
   "source": [
    "#pymysql简单使用\n",
    "#建立连接\n",
    "conn=pymysql.connect(host=\"localhost\",\n",
    "                    user=\"root\",\n",
    "                    password=\"123456\",\n",
    "                    db=\"cov\")\n",
    "#创建游标，默认是元祖型\n",
    "cursor=conn.cursor()\n",
    "\n",
    "sql=\"select * from history\"\n",
    "cursor.execute(sql)\n",
    "res=cursor.fetchall()\n",
    "print(res)\n",
    "\n",
    "cursor.close()\n",
    "conn.close()"
   ]
  },
  {
   "cell_type": "code",
   "execution_count": 5,
   "metadata": {},
   "outputs": [],
   "source": [
    "#pymysql简单使用\n",
    "#建立连接\n",
    "conn=pymysql.connect(host=\"localhost\",\n",
    "                    user=\"root\",\n",
    "                    password=\"123456\",\n",
    "                    db=\"cov\")\n",
    "#创建游标，默认是元祖型\n",
    "cursor=conn.cursor()\n",
    "\n",
    "sql=\"insert into history values(%s,%s,%s,%s,%s,%s,%s,%s,%s)\"\n",
    "cursor.execute(sql,[time.strftime(\"%Y-%m-%d\"),10,1,2,3,4,5,6,7])\n",
    "conn.commit()#提交事务\n",
    "\n",
    "cursor.close()\n",
    "conn.close()"
   ]
  },
  {
   "cell_type": "code",
   "execution_count": 6,
   "metadata": {},
   "outputs": [],
   "source": [
    "def get_conn():# 封装创建连接\n",
    "    \"\"\"\n",
    "    :return: 连接，游标\n",
    "    \"\"\"\n",
    "    \n",
    "    conn = pymysql.connect(host=\"localhost\",\n",
    "                           user=\"root\",\n",
    "                           password=\"123456\",\n",
    "                           db=\"cov\",\n",
    "                           charset=\"utf8\")\n",
    "    # 创建游标\n",
    "    cursor = conn.cursor()# 执行完毕返回的结果集默认以元组显示\n",
    "    return conn, cursor\n",
    "\n",
    "def close_conn(conn, cursor):\n",
    "    if cursor:\n",
    "        cursor.close()\n",
    "    if conn:\n",
    "        conn.close()"
   ]
  },
  {
   "cell_type": "code",
   "execution_count": 7,
   "metadata": {},
   "outputs": [],
   "source": [
    "def update_details():\n",
    "    \"\"\"\n",
    "    更新 details 表\n",
    "    :return:\n",
    "    \"\"\"\n",
    "    cursor = None\n",
    "    conn = None\n",
    "    try:\n",
    "        li = get_tencent_data()[1]  #  0 是历史数据字典,1 最新详细数据列表\n",
    "        conn, cursor = get_conn()\n",
    "        sql = \"insert into details(update_time,province,city,confirm,confirm_add,heal,dead) values(%s,%s,%s,%s,%s,%s,%s)\"\n",
    "        sql_query = 'select %s=(select update_time from details order by id desc limit 1)' #对比当前最大时间戳\n",
    "        cursor.execute(sql_query,li[0][0])\n",
    "        if not cursor.fetchone()[0]:#和第一条数据相比判断是否更新\n",
    "            print(f\"{time.asctime()}开始更新最新数据\")\n",
    "            for item in li:\n",
    "                cursor.execute(sql, item)\n",
    "            conn.commit()  # 提交事务 update delete insert操作\n",
    "            print(f\"{time.asctime()}更新最新数据完毕\")\n",
    "        else:\n",
    "            print(f\"{time.asctime()}已是最新数据！\")\n",
    "    except:\n",
    "        traceback.print_exc()\n",
    "    finally:\n",
    "        close_conn(conn, cursor)"
   ]
  },
  {
   "cell_type": "code",
   "execution_count": 8,
   "metadata": {},
   "outputs": [],
   "source": [
    "def insert_history():\n",
    "    \"\"\"\n",
    "        插入历史数据\n",
    "    :return:\n",
    "    \"\"\"\n",
    "    cursor = None\n",
    "    conn = None\n",
    "    try:\n",
    "        dic = get_tencent_data()[0]  # 0 是历史数据字典,1 最新详细数据列表\n",
    "        print(f\"{time.asctime()}开始插入历史数据\")\n",
    "        conn, cursor = get_conn()\n",
    "        sql = \"insert into history values(%s,%s,%s,%s,%s,%s,%s,%s,%s)\"\n",
    "        for k, v in dic.items():\n",
    "            # item 格式 {'2020-01-13': {'confirm': 41, 'suspect': 0, 'heal': 0, 'dead': 1}\n",
    "            cursor.execute(sql, [k, v.get(\"confirm\"), v.get(\"confirm_add\"), v.get(\"suspect\"),\n",
    "                                 v.get(\"suspect_add\"), v.get(\"heal\"), v.get(\"heal_add\"),\n",
    "                                 v.get(\"dead\"), v.get(\"dead_add\")])\n",
    "\n",
    "        conn.commit()  # 提交事务 update delete insert操作\n",
    "        print(f\"{time.asctime()}插入历史数据完毕\")\n",
    "    except:\n",
    "        traceback.print_exc()\n",
    "    finally:\n",
    "        close_conn(conn, cursor)"
   ]
  },
  {
   "cell_type": "code",
   "execution_count": 9,
   "metadata": {},
   "outputs": [],
   "source": [
    "def update_history():\n",
    "    \"\"\"\n",
    "    更新历史数据\n",
    "    :return:\n",
    "    \"\"\"\n",
    "    cursor = None\n",
    "    conn = None\n",
    "    try:\n",
    "        dic = get_tencent_data()[0]  #  0 是历史数据字典,1 最新详细数据列表\n",
    "        print(f\"{time.asctime()}开始更新历史数据\")\n",
    "        conn, cursor = get_conn()\n",
    "        sql = \"insert into history values(%s,%s,%s,%s,%s,%s,%s,%s,%s)\"\n",
    "        sql_query = \"select confirm from history where ds=%s\"\n",
    "        for k, v in dic.items():\n",
    "            # item 格式 {'2020-01-13': {'confirm': 41, 'suspect': 0, 'heal': 0, 'dead': 1}\n",
    "            if not cursor.execute(sql_query, k):\n",
    "                cursor.execute(sql, [k, v.get(\"confirm\"), v.get(\"confirm_add\"), v.get(\"suspect\"),\n",
    "                                     v.get(\"suspect_add\"), v.get(\"heal\"), v.get(\"heal_add\"),\n",
    "                                     v.get(\"dead\"), v.get(\"dead_add\")])\n",
    "        conn.commit()  # 提交事务 update delete insert操作\n",
    "        print(f\"{time.asctime()}历史数据更新完毕\")\n",
    "    except:\n",
    "        traceback.print_exc()\n",
    "    finally:\n",
    "        close_conn(conn, cursor)"
   ]
  },
  {
   "cell_type": "code",
   "execution_count": 9,
   "metadata": {
    "collapsed": true
   },
   "outputs": [
    {
     "name": "stdout",
     "output_type": "stream",
     "text": [
      "Tue Mar 10 13:29:31 2020开始插入历史数据\n"
     ]
    },
    {
     "name": "stderr",
     "output_type": "stream",
     "text": [
      "Traceback (most recent call last):\n",
      "  File \"<ipython-input-7-aa661a7cfd88>\", line 17, in insert_history\n",
      "    v.get(\"dead\"), v.get(\"dead_add\")])\n",
      "  File \"d:\\python\\lib\\site-packages\\pymysql\\cursors.py\", line 170, in execute\n",
      "    result = self._query(query)\n",
      "  File \"d:\\python\\lib\\site-packages\\pymysql\\cursors.py\", line 328, in _query\n",
      "    conn.query(q)\n",
      "  File \"d:\\python\\lib\\site-packages\\pymysql\\connections.py\", line 517, in query\n",
      "    self._affected_rows = self._read_query_result(unbuffered=unbuffered)\n",
      "  File \"d:\\python\\lib\\site-packages\\pymysql\\connections.py\", line 732, in _read_query_result\n",
      "    result.read()\n",
      "  File \"d:\\python\\lib\\site-packages\\pymysql\\connections.py\", line 1075, in read\n",
      "    first_packet = self.connection._read_packet()\n",
      "  File \"d:\\python\\lib\\site-packages\\pymysql\\connections.py\", line 684, in _read_packet\n",
      "    packet.check_error()\n",
      "  File \"d:\\python\\lib\\site-packages\\pymysql\\protocol.py\", line 220, in check_error\n",
      "    err.raise_mysql_exception(self._data)\n",
      "  File \"d:\\python\\lib\\site-packages\\pymysql\\err.py\", line 109, in raise_mysql_exception\n",
      "    raise errorclass(errno, errval)\n",
      "pymysql.err.IntegrityError: (1062, \"Duplicate entry '2020-01-13 00:00:00' for key 'PRIMARY'\")\n"
     ]
    }
   ],
   "source": [
    "insert_history()"
   ]
  },
  {
   "cell_type": "code",
   "execution_count": 10,
   "metadata": {},
   "outputs": [
    {
     "name": "stdout",
     "output_type": "stream",
     "text": [
      "Wed Mar 11 13:06:39 2020开始更新历史数据\n",
      "Wed Mar 11 13:06:39 2020历史数据更新完毕\n"
     ]
    }
   ],
   "source": [
    "update_history()"
   ]
  },
  {
   "cell_type": "code",
   "execution_count": 11,
   "metadata": {},
   "outputs": [
    {
     "name": "stdout",
     "output_type": "stream",
     "text": [
      "Wed Mar 11 13:06:43 2020开始更新最新数据\n",
      "Wed Mar 11 13:06:44 2020更新最新数据完毕\n"
     ]
    }
   ],
   "source": [
    "update_details()"
   ]
  },
  {
   "cell_type": "code",
   "execution_count": null,
   "metadata": {},
   "outputs": [],
   "source": [
    "##爬取百度热搜"
   ]
  },
  {
   "cell_type": "code",
   "execution_count": 12,
   "metadata": {},
   "outputs": [
    {
     "name": "stdout",
     "output_type": "stream",
     "text": [
      "新型肺炎实时动态1103940\n",
      "日本禁止倒卖口罩6581268\n",
      "意大利确诊病例数破万5121558\n",
      "安徽一马拉松禁止湖北籍报名4299345\n",
      "意大利式疫情小喇叭开播3964573\n",
      "6人回国确诊 入境未如实申报3459845\n",
      "泉州酒店搜救犬贝贝四肢感染3404986\n",
      "3000多名小学生集体模仿名画2789942\n",
      "习近平考察火神山医院2703506\n",
      "英国卫生部长确诊新冠肺炎2504237\n",
      "住华南海鲜市场43天未感染2249735\n",
      "消防员泉州坍塌酒店现场痛哭2082808\n",
      "意甲球员进球后呼吁待在家中1918989\n",
      "韩国首尔办公楼27人集体感染1396172\n",
      "北京供暖延长至3月22日1218903\n",
      "泉州被救男孩长大后想当医生1030615\n",
      "38岁民警抗疫40天殉职1027980\n",
      "印尼人因新冠肺炎大量抢购生姜1019403\n",
      "支援湖北护士给儿子取名李援鄂907986\n",
      "泉州坍塌酒店发现大量现金824949\n"
     ]
    }
   ],
   "source": [
    "from selenium.webdriver import Chrome,ChromeOptions\n",
    "\n",
    "option=ChromeOptions()\n",
    "option.add_argument(\"--headless\")#无头模式，隐藏浏览器\n",
    "option.add_argument(\"--no-sandbox\")\n",
    "\n",
    "browser=Chrome(options=option)\n",
    "url=\"https://voice.baidu.com/act/virussearch/virussearch?from=osari_map&tab=0&infomore=1\"\n",
    "browser.get(url)\n",
    "but=browser.find_element_by_css_selector('#ptab-0 > div > div.VirusHot_1-5-4_32AY4F.VirusHot_1-5-4_2RnRvg > section > div')\n",
    "but.click()#点击展开\n",
    "time.sleep(1)#等待1s\n",
    "\n",
    "c=browser.find_elements_by_xpath('//*[@id=\"ptab-0\"]/div/div[2]/section/a/div/span[2]')\n",
    "for i in c:\n",
    "    print(i.text)\n",
    "    \n",
    "browser.close()"
   ]
  },
  {
   "cell_type": "code",
   "execution_count": null,
   "metadata": {},
   "outputs": [],
   "source": [
    "##存放百度数据"
   ]
  },
  {
   "cell_type": "code",
   "execution_count": 13,
   "metadata": {},
   "outputs": [],
   "source": [
    "def get_baidu_hot():\n",
    "    \"\"\"\n",
    "    :return: 返回百度疫情热搜\n",
    "    \"\"\"\n",
    "    option = ChromeOptions()  # 创建谷歌浏览器实例\n",
    "    option.add_argument(\"--headless\")  # 隐藏浏览器\n",
    "    option.add_argument('--no-sandbox')\n",
    "\n",
    "    url = \"https://voice.baidu.com/act/virussearch/virussearch?from=osari_map&tab=0&infomore=1\"\n",
    "    browser = Chrome(options=option,executable_path=\"./chromedriver.exe\")\n",
    "    browser.get(url)\n",
    "    # 找到展开按钮\n",
    "    dl = browser.find_element_by_xpath('//*[@id=\"ptab-0\"]/div/div[2]/section/div')\n",
    "    dl.click()\n",
    "    time.sleep(1)\n",
    "    # 找到热搜标签\n",
    "    c = browser.find_elements_by_xpath('//*[@id=\"ptab-0\"]/div/div[2]/section/a/div/span[2]')\n",
    "    context = [i.text for i in c]  # 获取标签内容\n",
    "    print(context)\n",
    "    return context"
   ]
  },
  {
   "cell_type": "code",
   "execution_count": 14,
   "metadata": {},
   "outputs": [],
   "source": [
    "def update_hotsearch():\n",
    "    \"\"\"\n",
    "    将疫情热搜插入数据库\n",
    "    :return:\n",
    "    \"\"\"\n",
    "    cursor = None\n",
    "    conn = None\n",
    "    try:\n",
    "        context = get_baidu_hot()\n",
    "        print(f\"{time.asctime()}开始更新热搜数据\")\n",
    "        conn, cursor = get_conn()\n",
    "        sql = \"insert into hotsearch(dt,content) values(%s,%s)\"\n",
    "        ts = time.strftime(\"%Y-%m-%d %X\")\n",
    "        for i in context:\n",
    "            cursor.execute(sql, (ts, i))  # 插入数据\n",
    "        conn.commit()  # 提交事务保存数据\n",
    "        print(f\"{time.asctime()}数据更新完毕\")\n",
    "    except:\n",
    "        traceback.print_exc()\n",
    "    finally:\n",
    "        close_conn(conn, cursor)"
   ]
  },
  {
   "cell_type": "code",
   "execution_count": 15,
   "metadata": {},
   "outputs": [
    {
     "name": "stdout",
     "output_type": "stream",
     "text": [
      "['新型肺炎实时动态1103940', '日本禁止倒卖口罩6581268', '意大利确诊病例数破万5121558', '安徽一马拉松禁止湖北籍报名4299345', '意大利式疫情小喇叭开播3964573', '6人回国确诊 入境未如实申报3459845', '泉州酒店搜救犬贝贝四肢感染3404986', '3000多名小学生集体模仿名画2789942', '习近平考察火神山医院2703506', '英国卫生部长确诊新冠肺炎2504237', '住华南海鲜市场43天未感染2249735', '消防员泉州坍塌酒店现场痛哭2082808', '意甲球员进球后呼吁待在家中1918989', '韩国首尔办公楼27人集体感染1396172', '北京供暖延长至3月22日1218903', '泉州被救男孩长大后想当医生1030615', '38岁民警抗疫40天殉职1027980', '印尼人因新冠肺炎大量抢购生姜1019403', '支援湖北护士给儿子取名李援鄂907986', '泉州坍塌酒店发现大量现金824949']\n",
      "Wed Mar 11 13:07:12 2020开始更新热搜数据\n",
      "Wed Mar 11 13:07:12 2020数据更新完毕\n"
     ]
    }
   ],
   "source": [
    "update_hotsearch()"
   ]
  },
  {
   "cell_type": "code",
   "execution_count": null,
   "metadata": {},
   "outputs": [],
   "source": []
  }
 ],
 "metadata": {
  "kernelspec": {
   "display_name": "Python 3",
   "language": "python",
   "name": "python3"
  },
  "language_info": {
   "codemirror_mode": {
    "name": "ipython",
    "version": 3
   },
   "file_extension": ".py",
   "mimetype": "text/x-python",
   "name": "python",
   "nbconvert_exporter": "python",
   "pygments_lexer": "ipython3",
   "version": "3.6.5"
  }
 },
 "nbformat": 4,
 "nbformat_minor": 4
}
