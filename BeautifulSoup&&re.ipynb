{
 "cells": [
  {
   "cell_type": "code",
   "execution_count": 3,
   "metadata": {},
   "outputs": [
    {
     "name": "stdout",
     "output_type": "stream",
     "text": [
      "<a href=\"/scwsjkw/gzbd01/2020/3/4/fa70b77afc0c485da4a7cba7d4e445e3.shtml\" target=\"_blank\"><img alt=\"我省新型冠状病毒肺炎疫情最新情况（3月...\" src=\"/scwsjkw/gzbd01/2020/3/4/fa70b77afc0c485da4a7cba7d4e445e3/images/d8f8a9fbf6f64495962f79b11e07179c.jpg\n",
      "\"/></a>\n",
      "{'target': '_blank', 'href': '/scwsjkw/gzbd01/2020/3/4/fa70b77afc0c485da4a7cba7d4e445e3.shtml'}\n",
      "/scwsjkw/gzbd01/2020/3/4/fa70b77afc0c485da4a7cba7d4e445e3.shtml\n"
     ]
    }
   ],
   "source": [
    "from bs4 import BeautifulSoup\n",
    "import requests\n",
    "\n",
    "url=\"http://wsjkw.sc.gov.cn/scwsjkw/gzbd/fyzt.shtml\"\n",
    "res=requests.get(url)\n",
    "res.encoding=\"utf-8\"\n",
    "html=res.text\n",
    "soup=BeautifulSoup(html)\n",
    "soup.find(\"h2\").text\n",
    "a=soup.find(\"a\")\n",
    "print(a)\n",
    "print(a.attrs)\n",
    "print(a.attrs[\"href\"])"
   ]
  },
  {
   "cell_type": "code",
   "execution_count": 26,
   "metadata": {},
   "outputs": [
    {
     "name": "stdout",
     "output_type": "stream",
     "text": [
      "<p><span style=\"font-size: 12pt;\">    3月3日0-24时，我省新型冠状病毒肺炎无新增确诊病例，新增治愈出院病例11例，新增疑似病例1例，无新增死亡病例。\r\n",
      "</span><br/>\n",
      "<span style=\"font-size: 12pt;\">   （确诊患者信息详见各市（州）卫生健康委官微或官网每日发布）\r\n",
      "</span><br/>\n",
      "<span style=\"font-size: 12pt;\">    截至3月4日0时，我省累计报告新型冠状病毒肺炎确诊病例538例，涉及21个市（州）。\r\n",
      "</span><br/>\n",
      "<span style=\"font-size: 12pt;\">    全省现有无现症病例区（低风险县&lt;市、区&gt;）129个、散发病例区（中风险县&lt;市、区&gt;）53个、社区暴发和局部流行区（高风险县&lt;市、区&gt;）1个（过去24小时新增马尔康市为低风险县&lt;市、区&gt;）。\r\n",
      "</span><br/>\n",
      "<span style=\"font-size: 12pt;\">    538名确诊患者中，正在住院隔离治疗135人（其中危重2人），已治愈出院400人，死亡3人。\r\n",
      "</span><br/>\n",
      "<span style=\"font-size: 12pt;\">    现有疑似病例2例。\r\n",
      "</span><br/>\n",
      "<span style=\"font-size: 12pt;\">    当日解除医学观察144人，现有745人正在接受医学观察。</span></p>\n"
     ]
    }
   ],
   "source": [
    "url_new=\"http://wsjkw.sc.gov.cn\"+a.attrs[\"href\"]\n",
    "res=requests.get(url_new)\n",
    "res.encoding=\"utf-8\"\n",
    "soup=BeautifulSoup(res.text)\n",
    "context=soup.find(\"p\")\n",
    "print(context)"
   ]
  },
  {
   "cell_type": "code",
   "execution_count": null,
   "metadata": {},
   "outputs": [],
   "source": [
    "使用re解析"
   ]
  },
  {
   "cell_type": "code",
   "execution_count": 52,
   "metadata": {},
   "outputs": [
    {
     "name": "stdout",
     "output_type": "stream",
     "text": [
      "    3月3日0-24时，我省新型冠状病毒肺炎无新增确诊病例，新增治愈出院病例11例，新增疑似病例1例，无新增死亡病例。\r\n",
      "\n",
      "   （确诊患者信息详见各市（州）卫生健康委官微或官网每日发布）\r\n",
      "\n",
      "    截至3月4日0时，我省累计报告新型冠状病毒肺炎确诊病例538例，涉及21个市（州）。\r\n",
      "\n",
      "    全省现有无现症病例区（低风险县<市、区>）129个、散发病例区（中风险县<市、区>）53个、社区暴发和局部流行区（高风险县<市、区>）1个（过去24小时新增马尔康市为低风险县<市、区>）。\r\n",
      "\n",
      "    538名确诊患者中，正在住院隔离治疗135人（其中危重2人），已治愈出院400人，死亡3人。\r\n",
      "\n",
      "    现有疑似病例2例。\r\n",
      "\n",
      "    当日解除医学观察144人，现有745人正在接受医学观察。\n",
      "<_sre.SRE_Match object; span=(36, 53), match='出院病例11例，新增疑似病例1例，'>\n",
      "('11', '1')\n",
      "出院病例11例，新增疑似病例1例，\n",
      "11 1\n"
     ]
    }
   ],
   "source": [
    "import re\n",
    "text=context.text\n",
    "print(text)\n",
    "patten= \"出院病例(\\d+)例.*?疑似病例(\\d+)例.\"\n",
    "res=re.search(patten,text)\n",
    "print(res)\n",
    "print(res.groups())\n",
    "print(res.group(0))\n",
    "print(res.group(1),res.group(2))\n"
   ]
  },
  {
   "cell_type": "code",
   "execution_count": 49,
   "metadata": {},
   "outputs": [
    {
     "ename": "AttributeError",
     "evalue": "'NoneType' object has no attribute 'groups'",
     "output_type": "error",
     "traceback": [
      "\u001b[1;31m---------------------------------------------------------------------------\u001b[0m",
      "\u001b[1;31mAttributeError\u001b[0m                            Traceback (most recent call last)",
      "\u001b[1;32m<ipython-input-49-077960e8136d>\u001b[0m in \u001b[0;36m<module>\u001b[1;34m\u001b[0m\n\u001b[0;32m      1\u001b[0m \u001b[0mpatten\u001b[0m\u001b[1;33m=\u001b[0m\u001b[1;34m\"新增确诊病例(\\d+)例.*?出院病例(\\d+)例.*?疑似病例(\\d+)例.*?死亡病例(\\d+)例\"\u001b[0m\u001b[1;33m\u001b[0m\u001b[0m\n\u001b[0;32m      2\u001b[0m \u001b[0mres\u001b[0m\u001b[1;33m=\u001b[0m\u001b[0mre\u001b[0m\u001b[1;33m.\u001b[0m\u001b[0msearch\u001b[0m\u001b[1;33m(\u001b[0m\u001b[0mpatten\u001b[0m\u001b[1;33m,\u001b[0m\u001b[0mtext\u001b[0m\u001b[1;33m)\u001b[0m\u001b[1;33m\u001b[0m\u001b[0m\n\u001b[1;32m----> 3\u001b[1;33m \u001b[0mprint\u001b[0m\u001b[1;33m(\u001b[0m\u001b[0mres\u001b[0m\u001b[1;33m.\u001b[0m\u001b[0mgroups\u001b[0m\u001b[1;33m(\u001b[0m\u001b[1;33m)\u001b[0m\u001b[1;33m)\u001b[0m\u001b[1;33m\u001b[0m\u001b[0m\n\u001b[0m\u001b[0;32m      4\u001b[0m \u001b[0mprint\u001b[0m\u001b[1;33m(\u001b[0m\u001b[0mres\u001b[0m\u001b[1;33m.\u001b[0m\u001b[0mgroup\u001b[0m\u001b[1;33m(\u001b[0m\u001b[1;36m0\u001b[0m\u001b[1;33m)\u001b[0m\u001b[1;33m)\u001b[0m\u001b[1;33m\u001b[0m\u001b[0m\n\u001b[0;32m      5\u001b[0m \u001b[0mprint\u001b[0m\u001b[1;33m(\u001b[0m\u001b[0mres\u001b[0m\u001b[1;33m.\u001b[0m\u001b[0mgroup\u001b[0m\u001b[1;33m(\u001b[0m\u001b[1;36m1\u001b[0m\u001b[1;33m)\u001b[0m\u001b[1;33m,\u001b[0m\u001b[0mres\u001b[0m\u001b[1;33m.\u001b[0m\u001b[0mgroup\u001b[0m\u001b[1;33m(\u001b[0m\u001b[1;36m2\u001b[0m\u001b[1;33m)\u001b[0m\u001b[1;33m,\u001b[0m\u001b[0mres\u001b[0m\u001b[1;33m.\u001b[0m\u001b[0mgroup\u001b[0m\u001b[1;33m(\u001b[0m\u001b[1;36m3\u001b[0m\u001b[1;33m)\u001b[0m\u001b[1;33m,\u001b[0m\u001b[0mres\u001b[0m\u001b[1;33m.\u001b[0m\u001b[0mgroup\u001b[0m\u001b[1;33m(\u001b[0m\u001b[1;36m4\u001b[0m\u001b[1;33m)\u001b[0m\u001b[1;33m)\u001b[0m\u001b[1;33m\u001b[0m\u001b[0m\n",
      "\u001b[1;31mAttributeError\u001b[0m: 'NoneType' object has no attribute 'groups'"
     ]
    }
   ],
   "source": [
    "patten=\"新增确诊病例(\\d+)例.*?出院病例(\\d+)例.*?疑似病例(\\d+)例.*?死亡病例(\\d+)例\"\n",
    "res=re.search(patten,text)\n",
    "print(res.groups())\n",
    "print(res.group(0))\n",
    "print(res.group(1),res.group(2),res.group(3),res.group(4))"
   ]
  }
 ],
 "metadata": {
  "kernelspec": {
   "display_name": "Python 3",
   "language": "python",
   "name": "python3"
  },
  "language_info": {
   "codemirror_mode": {
    "name": "ipython",
    "version": 3
   },
   "file_extension": ".py",
   "mimetype": "text/x-python",
   "name": "python",
   "nbconvert_exporter": "python",
   "pygments_lexer": "ipython3",
   "version": "3.6.5"
  }
 },
 "nbformat": 4,
 "nbformat_minor": 4
}
